{
 "cells": [
  {
   "cell_type": "markdown",
   "metadata": {},
   "source": [
    "# План Лекции\n",
    "1. Декораторы функций  \n",
    "2. Введение в ООП (Классы в python)\n",
    "- Члены класса  \n",
    "- Специальные методы классов\n",
    "- Инкапсуляция\n",
    "- Наследование\n",
    "- Полиморфизм"
   ]
  },
  {
   "cell_type": "markdown",
   "metadata": {},
   "source": [
    "# Декораторы\n",
    "Это функции, оборачивающие другие функции)\n",
    "\n",
    "https://python101.pythonlibrary.org/chapter25_decorators.html"
   ]
  },
  {
   "cell_type": "code",
   "execution_count": 7,
   "metadata": {},
   "outputs": [],
   "source": [
    "def para(name):\n",
    "    def fizra():\n",
    "        print(\"Не идем\")\n",
    "    def _class():\n",
    "        print(\"Сюда идем(\")\n",
    "    \n",
    "    if name.lower() == \"физра\": \n",
    "        return fizra\n",
    "    else:\n",
    "        return _class"
   ]
  },
  {
   "cell_type": "code",
   "execution_count": 8,
   "metadata": {},
   "outputs": [
    {
     "data": {
      "text/plain": [
       "(<function __main__.para.<locals>.fizra()>,\n",
       " <function __main__.para.<locals>._class()>)"
      ]
     },
     "execution_count": 8,
     "metadata": {},
     "output_type": "execute_result"
    }
   ],
   "source": [
    "fizra = para(\"Физра\")\n",
    "math = para(\"Матан\")\n",
    "# как мы можем наблюдать функция это тоже объект \n",
    "fizra, math\n"
   ]
  },
  {
   "cell_type": "code",
   "execution_count": 9,
   "metadata": {},
   "outputs": [
    {
     "data": {
      "text/plain": [
       "['__abs__',\n",
       " '__add__',\n",
       " '__and__',\n",
       " '__bool__',\n",
       " '__ceil__',\n",
       " '__class__',\n",
       " '__delattr__',\n",
       " '__dir__',\n",
       " '__divmod__',\n",
       " '__doc__',\n",
       " '__eq__',\n",
       " '__float__',\n",
       " '__floor__',\n",
       " '__floordiv__',\n",
       " '__format__',\n",
       " '__ge__',\n",
       " '__getattribute__',\n",
       " '__getnewargs__',\n",
       " '__gt__',\n",
       " '__hash__',\n",
       " '__index__',\n",
       " '__init__',\n",
       " '__init_subclass__',\n",
       " '__int__',\n",
       " '__invert__',\n",
       " '__le__',\n",
       " '__lshift__',\n",
       " '__lt__',\n",
       " '__mod__',\n",
       " '__mul__',\n",
       " '__ne__',\n",
       " '__neg__',\n",
       " '__new__',\n",
       " '__or__',\n",
       " '__pos__',\n",
       " '__pow__',\n",
       " '__radd__',\n",
       " '__rand__',\n",
       " '__rdivmod__',\n",
       " '__reduce__',\n",
       " '__reduce_ex__',\n",
       " '__repr__',\n",
       " '__rfloordiv__',\n",
       " '__rlshift__',\n",
       " '__rmod__',\n",
       " '__rmul__',\n",
       " '__ror__',\n",
       " '__round__',\n",
       " '__rpow__',\n",
       " '__rrshift__',\n",
       " '__rshift__',\n",
       " '__rsub__',\n",
       " '__rtruediv__',\n",
       " '__rxor__',\n",
       " '__setattr__',\n",
       " '__sizeof__',\n",
       " '__str__',\n",
       " '__sub__',\n",
       " '__subclasshook__',\n",
       " '__truediv__',\n",
       " '__trunc__',\n",
       " '__xor__',\n",
       " 'as_integer_ratio',\n",
       " 'bit_count',\n",
       " 'bit_length',\n",
       " 'conjugate',\n",
       " 'denominator',\n",
       " 'from_bytes',\n",
       " 'imag',\n",
       " 'numerator',\n",
       " 'real',\n",
       " 'to_bytes']"
      ]
     },
     "execution_count": 9,
     "metadata": {},
     "output_type": "execute_result"
    }
   ],
   "source": [
    "dir(int)"
   ]
  },
  {
   "cell_type": "markdown",
   "metadata": {},
   "source": [
    "Список всех __магических__ методов (которых мне удалось найти)  \n",
    "\n",
    "**item/attribute/method look\\u\\p**\n",
    "\\_\\_getattribute\\_\\_  \n",
    "\\_\\_getattr\\_\\_  \n",
    "\\_\\_delattr\\_\\_  \n",
    "\\_\\_delitem\\_\\_  \n",
    "\\_\\_delslice\\_\\_  \n",
    "\\_\\_setattr\\_\\_  \n",
    "\\_\\_setitem\\_\\_  \n",
    "\\_\\_setslice\\_\\_  \n",
    "\\_\\_missing\\_\\_  \n",
    "\\_\\_getitem\\_\\_  \n",
    "\\_\\_getslice\\_\\_  \n",
    "**equality and hashi**\n",
    "\\_\\_eq\\_\\_  \n",
    "\\_\\_ge\\_\\_  \n",
    "\\_\\_gt\\_\\_  \n",
    "\\_\\_le\\_\\_  \n",
    "\\_\\_ne\\_\\_  \n",
    "\\_\\_lt\\_\\_  \n",
    "\\_\\_hash\\_\\_  \n",
    "binary operato\\r\\s  \n",
    "\\_\\_add\\_\\_  \n",
    "\\_\\_and\\_\\_  \n",
    "\\_\\_divmod\\_\\_  \n",
    "\\_\\_floordiv\\_\\_  \n",
    "\\_\\_lshift\\_\\_  \n",
    "\\_\\_matmul\\_\\_  \n",
    "\\_\\_mod\\_\\_  \n",
    "\\_\\_mul\\_\\_  \n",
    "\\_\\_or\\_\\_  \n",
    "\\_\\_pow\\_\\_  \n",
    "\\_\\_rshift\\_\\_  \n",
    "\\_\\_sub\\_\\_  \n",
    "\\_\\_truediv\\_\\_  \n",
    "\\_\\_xor\\_\\_\n",
    "  \n",
    "\\_\\_radd\\_\\_  \n",
    "\\_\\_rand\\_\\_  \n",
    "\\_\\_rdiv\\_\\_  \n",
    "\\_\\_rdivmod\\_\\_  \n",
    "\\_\\_rfloordiv\\_\\_  \n",
    "\\_\\_rlshift\\_\\_  \n",
    "\\_\\_rmatmul\\_\\_  \n",
    "\\_\\_rmod\\_\\_  \n",
    "\\_\\_rmul\\_\\_  \n",
    "\\_\\_ror\\_\\_  \n",
    "\\_\\_rpow\\_\\_  \n",
    "\\_\\_rrshift\\_\\_  \n",
    "\\_\\_rsub\\_\\_  \n",
    "\\_\\_rtruediv\\_\\_  \n",
    "\\_\\_rxor\\_\\_\n",
    "  \n",
    "\\_\\_iadd\\_\\_  \n",
    "\\_\\_iand\\_\\_  \n",
    "\\_\\_ifloordiv\\_\\_  \n",
    "\\_\\_ilshift\\_\\_  \n",
    "\\_\\_imatmul\\_\\_  \n",
    "\\_\\_imod\\_\\_  \n",
    "\\_\\_imul\\_\\_  \n",
    "\\_\\_ior\\_\\_  \n",
    "\\_\\_ipow\\_\\_  \n",
    "\\_\\_irshift\\_\\_  \n",
    "\\_\\_isub\\_\\_  \n",
    "\\_\\_itruediv\\_\\_  \n",
    "\\_\\_ixor\\_\\_  \n",
    "**unary operato\\r\\s**  \n",
    "\\_\\_abs\\_\\_  \n",
    "\\_\\_neg\\_\\_  \n",
    "\\_\\_pos\\_\\_  \n",
    "\\_\\_invert\\_\\_  \n",
    "**math**  \n",
    "\\_\\_index\\_\\_  \n",
    "\\_\\_trunc\\_\\_  \n",
    "\\_\\_floor\\_\\_  \n",
    "\\_\\_ceil\\_\\_  \n",
    "\\_\\_round\\_\\_  \n",
    "**iterator**  \n",
    "\\_\\_iter\\_\\_  \n",
    "\\_\\_len\\_\\_  \n",
    "\\_\\_reversed\\_\\_  \n",
    "\\_\\_contains\\_\\_  \n",
    "\\_\\_next\\_\\_  \n",
    "**numeric type casting**\n",
    "\\_\\_int\\_\\_  \n",
    "\\_\\_bool\\_\\_  \n",
    "\\_\\_nonzero\\_\\_  \n",
    "\\_\\_complex\\_\\_  \n",
    "\\_\\_float\\_\\_  \n",
    "**others**  \n",
    "\\_\\_format\\_\\_  \n",
    "\\_\\_cmp\\_\\_  \n",
    "**context manager**\n",
    "\\_\\_enter\\_\\_  \n",
    "\\_\\_exit\\_\\_  \n",
    "**descriptor**\n",
    "\\_\\_get\\_\\_  \n",
    "\\_\\_set\\_\\_  \n",
    "\\_\\_delete\\_\\_  \n",
    "\\_\\_set_name\\_\\_  \n",
    "**creation and typing**  \n",
    "\\_\\_call\\_\\_  \n",
    "\\_\\_class\\_\\_  \n",
    "\\_\\_dir\\_\\_  \n",
    "\\_\\_init\\_\\_  \n",
    "\\_\\_init_subclass\\_\\_  \n",
    "\\_\\_prepare\\_\\_  \n",
    "\\_\\_new\\_\\_  \n",
    "\\_\\_subclasses\\_\\_  \n",
    "**instance / subclass check**  \n",
    "\\_\\_instancecheck\\_\\_  \n",
    "\\_\\_subclasscheck\\_\\_  \n",
    "**generic types**  \n",
    "\\_\\_class_getitem\\_\\_  \n",
    "**str and repr**\n",
    "\\_\\_str\\_\\_  \n",
    "\\_\\_repr\\_\\_  \n",
    "**modules**  \n",
    "\\_\\_import\\_\\_  \n",
    "**others**    \n",
    "\\_\\_bytes\\_\\_  \n",
    "\\_\\_fspath\\_\\_  \n",
    "\\_\\_getnewargs\\_\\_  \n",
    "\\_\\_reduce\\_\\_  \n",
    "\\_\\_reduce_ex\\_\\_  \n",
    "\\_\\_sizeof\\_\\_  \n",
    "\\_\\_length_hint\\_\\_  "
   ]
  },
  {
   "cell_type": "markdown",
   "metadata": {},
   "source": [
    "## Простой декоратор\n",
    "Теперь мы знаем, что функция это тоже объект"
   ]
  },
  {
   "cell_type": "code",
   "execution_count": 10,
   "metadata": {},
   "outputs": [
    {
     "name": "stdout",
     "output_type": "stream",
     "text": [
      "Это произойдет до вызова func\n",
      "Hello world!\n",
      "Это произойдет после вызова функции\n"
     ]
    }
   ],
   "source": [
    "def decorator(func):\n",
    "    def wrapper():\n",
    "        print(\"Это произойдет до вызова func\")\n",
    "        func()\n",
    "        print(\"Это произойдет после вызова функции\")\n",
    "    return wrapper\n",
    "\n",
    "def hello_word():\n",
    "    print(\"Hello world!\")\n",
    "\n",
    "f = decorator(hello_word)\n",
    "\n",
    "f()"
   ]
  },
  {
   "cell_type": "code",
   "execution_count": 11,
   "metadata": {},
   "outputs": [
    {
     "name": "stdout",
     "output_type": "stream",
     "text": [
      "Это произойдет до вызова say_hello\n",
      "hello\n",
      "Это произойдет после вызова say_hello\n"
     ]
    }
   ],
   "source": [
    "# А теперь чутка синтаксического сахара\n",
    "\n",
    "def decorator(func):\n",
    "    def wrapper():\n",
    "        print(f\"Это произойдет до вызова {func.__name__}\")\n",
    "        func()\n",
    "        print(f\"Это произойдет после вызова {func.__name__}\")\n",
    "    return wrapper\n",
    "\n",
    "@decorator\n",
    "def say_hello():\n",
    "    print(\"hello\")\n",
    "\n",
    "say_hello()"
   ]
  },
  {
   "cell_type": "markdown",
   "metadata": {},
   "source": [
    "# Классы\n",
    "\n",
    "\n",
    "__экземпляр__  - объект типа\n",
    "__класс__ - пользовательский тип(объект)\n",
    "\n",
    "класс состоит из следующих членов:\n",
    "\n",
    "1. Методы - функции класса/экземпляра\n",
    "2. Поля - переменные класса/экземпляра\n",
    "\n",
    "Доступ к членам класса:\n",
    "- для экземпляров через оператора доступа к члену \".\" \n",
    "пример\n",
    "```python\n",
    "a = [1, 2]\n",
    "a.sort() # мы обращаемся к методу sort у класса list\n",
    "```\n",
    "Иниацилизация класса:\n",
    "```python\n",
    "class <название класса>: \n",
    "        <поля и методы класса>\n",
    "```\n",
    "\n"
   ]
  },
  {
   "cell_type": "code",
   "execution_count": null,
   "metadata": {},
   "outputs": [],
   "source": [
    "class A: \n",
    "    pass"
   ]
  },
  {
   "cell_type": "code",
   "execution_count": null,
   "metadata": {},
   "outputs": [],
   "source": [
    "# создание экземпляра класса\n",
    "a = A()"
   ]
  },
  {
   "cell_type": "markdown",
   "metadata": {},
   "source": [
    "## Встроенные методы для класса type() и isinstance()\n",
    "```python\n",
    "type(object, bases, dict) # возвращает тип указаного объекта\n",
    "```\n",
    "Параметр\t|Описание\n",
    "------------|------------\n",
    "object      |Обязательный. Если указан только один параметр `type()` вернет тип указанного объекта \n",
    "bases\t    |Опциональный. Определяет базовые классы\n",
    "dict\t    |Опциональный. Задает пространство имен с определением класса\n",
    "\n",
    "Пример:\n"
   ]
  },
  {
   "cell_type": "code",
   "execution_count": 12,
   "metadata": {},
   "outputs": [
    {
     "data": {
      "text/plain": [
       "(float, int)"
      ]
     },
     "execution_count": 12,
     "metadata": {},
     "output_type": "execute_result"
    }
   ],
   "source": [
    "type(1.0), type(1)"
   ]
  },
  {
   "cell_type": "markdown",
   "metadata": {},
   "source": [
    "```python\n",
    "isinstance(object, type) # \n",
    "```\n",
    "возвращает `True` если указанный oбъект является экземпляром `type`, где `type` может быть `tuple` содержащим типы / классы  \n",
    "примеры:\n"
   ]
  },
  {
   "cell_type": "code",
   "execution_count": null,
   "metadata": {},
   "outputs": [],
   "source": [
    "isinstance('a', str)"
   ]
  },
  {
   "cell_type": "code",
   "execution_count": 13,
   "metadata": {},
   "outputs": [
    {
     "data": {
      "text/plain": [
       "False"
      ]
     },
     "execution_count": 13,
     "metadata": {},
     "output_type": "execute_result"
    }
   ],
   "source": [
    "x = isinstance(\"Hello\", (float, int, dict, tuple))\n",
    "x"
   ]
  },
  {
   "cell_type": "markdown",
   "metadata": {},
   "source": [
    "## Инициализация Класса\n",
    "\n",
    "Для инициализации класа используется специальный метод - конструктор в python обозначается `__init__`  \n",
    "Для обращению к полю экземпляра в методы класса первым параметром объявляется переменная, обращением к которой мы будем обращаться к экземпляру класса.  \n",
    "  \n",
    "Этот параметр принято называть `self`\n",
    "\n",
    "\n"
   ]
  },
  {
   "cell_type": "code",
   "execution_count": 14,
   "metadata": {},
   "outputs": [],
   "source": [
    "class Student:\n",
    "    def __init__(self, name, age) -> None:\n",
    "        self.name = name\n",
    "        self.age = age\n",
    "\n",
    "        self.group = 'itam'\n",
    "    "
   ]
  },
  {
   "cell_type": "code",
   "execution_count": 16,
   "metadata": {},
   "outputs": [
    {
     "data": {
      "text/plain": [
       "'Danila'"
      ]
     },
     "execution_count": 16,
     "metadata": {},
     "output_type": "execute_result"
    }
   ],
   "source": [
    "# Создание экземпляра класса\n",
    "danila = Student('Danila', 20)\n",
    "denis = Student(name='Denis', age=18)\n",
    "danila.name"
   ]
  },
  {
   "cell_type": "markdown",
   "metadata": {},
   "source": [
    "## Статические переменные класса и статические методы\n",
    "Статические переменные - переменные доступные для всех экземпляров класса  \n",
    "Статические методы - методы доступные для всех экземпляров класса  \n",
    "\n"
   ]
  },
  {
   "cell_type": "code",
   "execution_count": 17,
   "metadata": {},
   "outputs": [],
   "source": [
    "class Student:\n",
    "    # Иницацилизация статической переменной \n",
    "    _students_count = 0\n",
    "    \n",
    "    def __init__(self, name, age = 18) -> None:\n",
    "        self.name = name\n",
    "        self.age = age\n",
    "\n",
    "        self.group = 'itam'\n",
    "\n",
    "        Student._students_count += 1 \n",
    "\n",
    "    # Иниацилизация статического метода\n",
    "    @staticmethod \n",
    "    def get_amount():\n",
    "        return Student._students_count"
   ]
  },
  {
   "cell_type": "code",
   "execution_count": 18,
   "metadata": {},
   "outputs": [],
   "source": [
    "a, b, c = Student(\"Danila\"), Student(\"Denis\"), Student(\"Michael\")"
   ]
  },
  {
   "cell_type": "code",
   "execution_count": 19,
   "metadata": {},
   "outputs": [
    {
     "data": {
      "text/plain": [
       "3"
      ]
     },
     "execution_count": 19,
     "metadata": {},
     "output_type": "execute_result"
    }
   ],
   "source": [
    "Student._students_count"
   ]
  },
  {
   "cell_type": "markdown",
   "metadata": {},
   "source": [
    "# Magic or Dunder Methods \n",
    "Это специальные методы, которые начинаются и заканчиваются с \\_\\_.  \n",
    "Dunder методы на предназначены, для вызова нами, но оно происходит при определенном действии.   Например, при прибавлении двух чисел с помощью оператора `+` внутри будет вызван метод `__add__()`  \n",
    "\n",
    "Для простомтра унаследованных __магических методов__ классом существует функция `dir()`"
   ]
  },
  {
   "cell_type": "code",
   "execution_count": 20,
   "metadata": {},
   "outputs": [
    {
     "data": {
      "text/plain": [
       "2"
      ]
     },
     "execution_count": 20,
     "metadata": {},
     "output_type": "execute_result"
    }
   ],
   "source": [
    "a = 1\n",
    "a + 1 "
   ]
  },
  {
   "cell_type": "markdown",
   "metadata": {},
   "source": [
    "Список всех __магических__ методов (которых мне удалось найти)  \n",
    "\n",
    "**item/attribute/method look\\u\\p**\n",
    "\\_\\_getattribute\\_\\_  \n",
    "\\_\\_getattr\\_\\_  \n",
    "\\_\\_delattr\\_\\_  \n",
    "\\_\\_delitem\\_\\_  \n",
    "\\_\\_delslice\\_\\_  \n",
    "\\_\\_setattr\\_\\_  \n",
    "\\_\\_setitem\\_\\_  \n",
    "\\_\\_setslice\\_\\_  \n",
    "\\_\\_missing\\_\\_  \n",
    "\\_\\_getitem\\_\\_  \n",
    "\\_\\_getslice\\_\\_  \n",
    "**equality and hashi**\n",
    "\\_\\_eq\\_\\_  \n",
    "\\_\\_ge\\_\\_  \n",
    "\\_\\_gt\\_\\_  \n",
    "\\_\\_le\\_\\_  \n",
    "\\_\\_ne\\_\\_  \n",
    "\\_\\_lt\\_\\_  \n",
    "\\_\\_hash\\_\\_  \n",
    "binary operato\\r\\s  \n",
    "\\_\\_add\\_\\_  \n",
    "\\_\\_and\\_\\_  \n",
    "\\_\\_divmod\\_\\_  \n",
    "\\_\\_floordiv\\_\\_  \n",
    "\\_\\_lshift\\_\\_  \n",
    "\\_\\_matmul\\_\\_  \n",
    "\\_\\_mod\\_\\_  \n",
    "\\_\\_mul\\_\\_  \n",
    "\\_\\_or\\_\\_  \n",
    "\\_\\_pow\\_\\_  \n",
    "\\_\\_rshift\\_\\_  \n",
    "\\_\\_sub\\_\\_  \n",
    "\\_\\_truediv\\_\\_  \n",
    "\\_\\_xor\\_\\_\n",
    "  \n",
    "\\_\\_radd\\_\\_  \n",
    "\\_\\_rand\\_\\_  \n",
    "\\_\\_rdiv\\_\\_  \n",
    "\\_\\_rdivmod\\_\\_  \n",
    "\\_\\_rfloordiv\\_\\_  \n",
    "\\_\\_rlshift\\_\\_  \n",
    "\\_\\_rmatmul\\_\\_  \n",
    "\\_\\_rmod\\_\\_  \n",
    "\\_\\_rmul\\_\\_  \n",
    "\\_\\_ror\\_\\_  \n",
    "\\_\\_rpow\\_\\_  \n",
    "\\_\\_rrshift\\_\\_  \n",
    "\\_\\_rsub\\_\\_  \n",
    "\\_\\_rtruediv\\_\\_  \n",
    "\\_\\_rxor\\_\\_\n",
    "  \n",
    "\\_\\_iadd\\_\\_  \n",
    "\\_\\_iand\\_\\_  \n",
    "\\_\\_ifloordiv\\_\\_  \n",
    "\\_\\_ilshift\\_\\_  \n",
    "\\_\\_imatmul\\_\\_  \n",
    "\\_\\_imod\\_\\_  \n",
    "\\_\\_imul\\_\\_  \n",
    "\\_\\_ior\\_\\_  \n",
    "\\_\\_ipow\\_\\_  \n",
    "\\_\\_irshift\\_\\_  \n",
    "\\_\\_isub\\_\\_  \n",
    "\\_\\_itruediv\\_\\_  \n",
    "\\_\\_ixor\\_\\_  \n",
    "**unary operato\\r\\s**  \n",
    "\\_\\_abs\\_\\_  \n",
    "\\_\\_neg\\_\\_  \n",
    "\\_\\_pos\\_\\_  \n",
    "\\_\\_invert\\_\\_  \n",
    "**math**  \n",
    "\\_\\_index\\_\\_  \n",
    "\\_\\_trunc\\_\\_  \n",
    "\\_\\_floor\\_\\_  \n",
    "\\_\\_ceil\\_\\_  \n",
    "\\_\\_round\\_\\_  \n",
    "**iterator**  \n",
    "\\_\\_iter\\_\\_  \n",
    "\\_\\_len\\_\\_  \n",
    "\\_\\_reversed\\_\\_  \n",
    "\\_\\_contains\\_\\_  \n",
    "\\_\\_next\\_\\_  \n",
    "**numeric type casting**\n",
    "\\_\\_int\\_\\_  \n",
    "\\_\\_bool\\_\\_  \n",
    "\\_\\_nonzero\\_\\_  \n",
    "\\_\\_complex\\_\\_  \n",
    "\\_\\_float\\_\\_  \n",
    "**others**  \n",
    "\\_\\_format\\_\\_  \n",
    "\\_\\_cmp\\_\\_  \n",
    "**context manager**\n",
    "\\_\\_enter\\_\\_  \n",
    "\\_\\_exit\\_\\_  \n",
    "**descriptor**\n",
    "\\_\\_get\\_\\_  \n",
    "\\_\\_set\\_\\_  \n",
    "\\_\\_delete\\_\\_  \n",
    "\\_\\_set_name\\_\\_  \n",
    "**creation and typing**  \n",
    "\\_\\_call\\_\\_  \n",
    "\\_\\_class\\_\\_  \n",
    "\\_\\_dir\\_\\_  \n",
    "\\_\\_init\\_\\_  \n",
    "\\_\\_init_subclass\\_\\_  \n",
    "\\_\\_prepare\\_\\_  \n",
    "\\_\\_new\\_\\_  \n",
    "\\_\\_subclasses\\_\\_  \n",
    "**instance / subclass check**  \n",
    "\\_\\_instancecheck\\_\\_  \n",
    "\\_\\_subclasscheck\\_\\_  \n",
    "**generic types**  \n",
    "\\_\\_class_getitem\\_\\_  \n",
    "**str and repr**\n",
    "\\_\\_str\\_\\_  \n",
    "\\_\\_repr\\_\\_  \n",
    "**modules**  \n",
    "\\_\\_import\\_\\_  \n",
    "**others**    \n",
    "\\_\\_bytes\\_\\_  \n",
    "\\_\\_fspath\\_\\_  \n",
    "\\_\\_getnewargs\\_\\_  \n",
    "\\_\\_reduce\\_\\_  \n",
    "\\_\\_reduce_ex\\_\\_  \n",
    "\\_\\_sizeof\\_\\_  \n",
    "\\_\\_length_hint\\_\\_  "
   ]
  },
  {
   "cell_type": "code",
   "execution_count": 21,
   "metadata": {},
   "outputs": [
    {
     "data": {
      "text/plain": [
       "15"
      ]
     },
     "execution_count": 21,
     "metadata": {},
     "output_type": "execute_result"
    }
   ],
   "source": [
    "num = 10\n",
    "num + 5"
   ]
  },
  {
   "cell_type": "code",
   "execution_count": null,
   "metadata": {},
   "outputs": [],
   "source": [
    "num.__add__(5) "
   ]
  },
  {
   "cell_type": "code",
   "execution_count": 22,
   "metadata": {},
   "outputs": [],
   "source": [
    "class Student:\n",
    "    _students_count = 0\n",
    "    \n",
    "    def __init__(self, name, age = 18) -> None:\n",
    "        self.name = name\n",
    "        self.age = age\n",
    "\n",
    "        self.group = 'itam'\n",
    "\n",
    "        Student._students_count += 1 \n",
    "\n",
    "    # __str__ - применяется к обьекту при вызове str от него\n",
    "    def __str__(self):\n",
    "        return self.name + \", \" + str(self.age)\n",
    "    \n",
    "    @staticmethod \n",
    "    def get_amount():\n",
    "        return Student._students_count"
   ]
  },
  {
   "cell_type": "code",
   "execution_count": 24,
   "metadata": {},
   "outputs": [
    {
     "name": "stdout",
     "output_type": "stream",
     "text": [
      "Danila, 22\n"
     ]
    }
   ],
   "source": [
    "a = Student(\"Danila\", 22)\n",
    "print(a)"
   ]
  },
  {
   "cell_type": "markdown",
   "metadata": {},
   "source": [
    "# Инкапсуляция\n",
    "Механизм сокрытия, позволяющий разграничивать доступ к различным компонентам программы.\n",
    "\n"
   ]
  },
  {
   "cell_type": "code",
   "execution_count": 36,
   "metadata": {},
   "outputs": [],
   "source": [
    "class Student:\n",
    "    _students_count = 0\n",
    "    \n",
    "    def __init__(self, name, age = 18) -> None:\n",
    "        self.name = name\n",
    "        self.age = age\n",
    "\n",
    "        self.group = 'itam'\n",
    "\n",
    "        Student._students_count += 1 \n",
    "\n",
    "    # __str__ - применяется к обьекту при вызове str от него\n",
    "    def __str__(self):\n",
    "        return self.name + \", \" + str(self.age)\n",
    "    \n",
    "    @staticmethod \n",
    "    def get_amount():\n",
    "        return Student._students_count\n",
    "\n",
    "    # public (если проводить \"аналогию\" с c++)\n",
    "    def method_a(self):\n",
    "        self.d = 'a'\n",
    "        self.__method_c()\n",
    "        return 'a'\n",
    "\n",
    "    # protected \n",
    "    def _method_b(self):\n",
    "        return 'b'\n",
    "\n",
    "    #private\n",
    "    def __method_c(self):\n",
    "        print(\"Hello\")"
   ]
  },
  {
   "cell_type": "code",
   "execution_count": 39,
   "metadata": {},
   "outputs": [
    {
     "ename": "TypeError",
     "evalue": "print() takes 0 positional arguments but 1 was given",
     "output_type": "error",
     "traceback": [
      "\u001b[0;31m---------------------------------------------------------------------------\u001b[0m",
      "\u001b[0;31mTypeError\u001b[0m                                 Traceback (most recent call last)",
      "Cell \u001b[0;32mIn [39], line 3\u001b[0m\n\u001b[1;32m      1\u001b[0m \u001b[39mdef\u001b[39;00m \u001b[39mprint\u001b[39m():\n\u001b[1;32m      2\u001b[0m     \u001b[39mprint\u001b[39m(\u001b[39m\"\u001b[39m\u001b[39mHello\u001b[39m\u001b[39m\"\u001b[39m)\n\u001b[0;32m----> 3\u001b[0m \u001b[39mprint\u001b[39;49m()\n",
      "Cell \u001b[0;32mIn [39], line 2\u001b[0m, in \u001b[0;36mprint\u001b[0;34m()\u001b[0m\n\u001b[1;32m      1\u001b[0m \u001b[39mdef\u001b[39;00m \u001b[39mprint\u001b[39m():\n\u001b[0;32m----> 2\u001b[0m     \u001b[39mprint\u001b[39;49m(\u001b[39m\"\u001b[39;49m\u001b[39mHello\u001b[39;49m\u001b[39m\"\u001b[39;49m)\n",
      "\u001b[0;31mTypeError\u001b[0m: print() takes 0 positional arguments but 1 was given"
     ]
    }
   ],
   "source": []
  },
  {
   "cell_type": "code",
   "execution_count": 37,
   "metadata": {},
   "outputs": [
    {
     "name": "stdout",
     "output_type": "stream",
     "text": [
      "Hello\n"
     ]
    },
    {
     "data": {
      "text/plain": [
       "'a'"
      ]
     },
     "execution_count": 37,
     "metadata": {},
     "output_type": "execute_result"
    }
   ],
   "source": [
    "a = Student(\"Danila\", 21)\n",
    "a.method_a()\n",
    "a.d"
   ]
  },
  {
   "cell_type": "code",
   "execution_count": 27,
   "metadata": {},
   "outputs": [
    {
     "data": {
      "text/plain": [
       "'b'"
      ]
     },
     "execution_count": 27,
     "metadata": {},
     "output_type": "execute_result"
    }
   ],
   "source": [
    "# Сработает без проблем, но большинство IDE подсвечивает как ошибку\n",
    "a._method_b()"
   ]
  },
  {
   "cell_type": "code",
   "execution_count": 35,
   "metadata": {},
   "outputs": [
    {
     "ename": "AttributeError",
     "evalue": "'Student' object has no attribute '__method_c'",
     "output_type": "error",
     "traceback": [
      "\u001b[0;31m---------------------------------------------------------------------------\u001b[0m",
      "\u001b[0;31mAttributeError\u001b[0m                            Traceback (most recent call last)",
      "Cell \u001b[0;32mIn [35], line 2\u001b[0m\n\u001b[1;32m      1\u001b[0m \u001b[39m# Не сработает\u001b[39;00m\n\u001b[0;32m----> 2\u001b[0m a\u001b[39m.\u001b[39;49m__method_c()\n",
      "\u001b[0;31mAttributeError\u001b[0m: 'Student' object has no attribute '__method_c'"
     ]
    }
   ],
   "source": [
    "# Не сработает\n",
    "a.__method_c()"
   ]
  },
  {
   "cell_type": "code",
   "execution_count": 29,
   "metadata": {},
   "outputs": [
    {
     "data": {
      "text/plain": [
       "'c'"
      ]
     },
     "execution_count": 29,
     "metadata": {},
     "output_type": "execute_result"
    }
   ],
   "source": [
    "# Но всё равно можно вызвать через <object>._<class_name><method_name>()\n",
    "a._Student__method_c()"
   ]
  },
  {
   "cell_type": "markdown",
   "metadata": {},
   "source": [
    "# Наследование\n",
    "Концепция объектно-ориентированного программирования, согласно которой абстрактный тип данных может наследовать данные и функциональность некоторого существующего типа, способствуя повторному использованию компонентов программного обеспечения.\n",
    "\n",
    "```python\n",
    "class <дочерний класс>(<родительский класс>)\n",
    "```"
   ]
  },
  {
   "cell_type": "code",
   "execution_count": 34,
   "metadata": {},
   "outputs": [
    {
     "name": "stdout",
     "output_type": "stream",
     "text": [
      "Привет, мир!\n"
     ]
    },
    {
     "ename": "NameError",
     "evalue": "name 'ITKK_coworking' is not defined",
     "output_type": "error",
     "traceback": [
      "\u001b[0;31m---------------------------------------------------------------------------\u001b[0m",
      "\u001b[0;31mNameError\u001b[0m                                 Traceback (most recent call last)",
      "Cell \u001b[0;32mIn [34], line 10\u001b[0m\n\u001b[1;32m      6\u001b[0m     \u001b[39mpass\u001b[39;00m\n\u001b[1;32m      8\u001b[0m b \u001b[39m=\u001b[39m B()\n\u001b[0;32m---> 10\u001b[0m ITKK_coworking\n",
      "\u001b[0;31mNameError\u001b[0m: name 'ITKK_coworking' is not defined"
     ]
    }
   ],
   "source": [
    "class A:\n",
    "    def __init__(self):\n",
    "        print('Привет, мир!')\n",
    "        \n",
    "class B(A):\n",
    "    pass\n",
    "\n",
    "b = B()\n",
    "\n",
    "# ITKK_coworking\n",
    "# password: ItAtMisis"
   ]
  },
  {
   "cell_type": "code",
   "execution_count": 31,
   "metadata": {},
   "outputs": [],
   "source": [
    "class C(A):\n",
    "    \n",
    "    # Члены можно переопределять\n",
    "    def __init__(self):\n",
    "        print(\"Привет, жестокий мир\")"
   ]
  },
  {
   "cell_type": "code",
   "execution_count": 32,
   "metadata": {},
   "outputs": [
    {
     "name": "stdout",
     "output_type": "stream",
     "text": [
      "Привет, жестокий мир\n"
     ]
    }
   ],
   "source": [
    "c = C()"
   ]
  },
  {
   "cell_type": "markdown",
   "metadata": {},
   "source": [
    "# Полиморфизм  \n",
    "\n",
    "Свойство системы, позволяющее использовать объекты с одинаковым интерфейсом без информации о типе и внутренней структуре объекта."
   ]
  },
  {
   "cell_type": "code",
   "execution_count": 33,
   "metadata": {},
   "outputs": [
    {
     "name": "stdout",
     "output_type": "stream",
     "text": [
      "BARK\n",
      "MEOW\n"
     ]
    }
   ],
   "source": [
    "class Animal:\n",
    "    def __init__(self):\n",
    "        pass\n",
    "    \n",
    "    def bark(self):\n",
    "        pass\n",
    "    \n",
    "class Cat(Animal):\n",
    "    def bark(self):\n",
    "        return \"MEOW\"\n",
    "    \n",
    "\n",
    "class Dog(Animal):\n",
    "    def bark(self):\n",
    "        return \"BARK\"\n",
    "    \n",
    "\n",
    "def do_voice(animal):\n",
    "    print(animal.bark())\n",
    "    \n",
    "kraft = Dog()\n",
    "do_voice(kraft)\n",
    "\n",
    "mikki = Cat()\n",
    "do_voice(mikki)"
   ]
  }
 ],
 "metadata": {
  "kernelspec": {
   "display_name": "Python 3.10.6 64-bit",
   "language": "python",
   "name": "python3"
  },
  "language_info": {
   "codemirror_mode": {
    "name": "ipython",
    "version": 3
   },
   "file_extension": ".py",
   "mimetype": "text/x-python",
   "name": "python",
   "nbconvert_exporter": "python",
   "pygments_lexer": "ipython3",
   "version": "3.10.6"
  },
  "orig_nbformat": 4,
  "vscode": {
   "interpreter": {
    "hash": "7e1998ff7f8aa20ada591c520b972326324e5ea05489af9e422744c7c09f6dad"
   }
  }
 },
 "nbformat": 4,
 "nbformat_minor": 2
}
