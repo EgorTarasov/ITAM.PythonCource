{
 "cells": [
  {
   "cell_type": "markdown",
   "metadata": {},
   "source": [
    "# План Лекции\n",
    "1. Декораторы функций  \n",
    "2. Введение в ООП (классы в python)\n",
    "- Члены класса  \n",
    "- Специальные методы классов\n",
    "- Инкапсуляция\n",
    "- Наследование\n",
    "- Полиморфизм"
   ]
  },
  {
   "cell_type": "markdown",
   "metadata": {},
   "source": [
    "# Декораторы\n",
    "Декоратор - функция, оборачивающая другую функцию.\n",
    "\n",
    "О декораторах можно почитать здесь:\n",
    "- https://python101.pythonlibrary.org/chapter25_decorators.html"
   ]
  },
  {
   "cell_type": "code",
   "execution_count": 2,
   "metadata": {},
   "outputs": [],
   "source": [
    "def para(name):\n",
    "    def fizra():\n",
    "        print(\"Не идем\")\n",
    "    def _class():\n",
    "        print(\"Сюда идем(\")\n",
    "    \n",
    "    if name.lower() == \"физра\": \n",
    "        return fizra\n",
    "    else:\n",
    "        return _class"
   ]
  },
  {
   "cell_type": "code",
   "execution_count": 3,
   "metadata": {},
   "outputs": [
    {
     "data": {
      "text/plain": [
       "(<function __main__.para.<locals>.fizra()>,\n",
       " <function __main__.para.<locals>._class()>)"
      ]
     },
     "execution_count": 3,
     "metadata": {},
     "output_type": "execute_result"
    }
   ],
   "source": [
    "fizra = para(\"Физра\")\n",
    "math = para(\"Матан\")\n",
    "# как мы можем наблюдать, функция это тоже объект \n",
    "fizra, math"
   ]
  },
  {
   "cell_type": "code",
   "execution_count": 40,
   "metadata": {},
   "outputs": [
    {
     "data": {
      "text/plain": [
       "['__abs__',\n",
       " '__add__',\n",
       " '__and__',\n",
       " '__bool__',\n",
       " '__ceil__',\n",
       " '__class__',\n",
       " '__delattr__',\n",
       " '__dir__',\n",
       " '__divmod__',\n",
       " '__doc__',\n",
       " '__eq__',\n",
       " '__float__',\n",
       " '__floor__',\n",
       " '__floordiv__',\n",
       " '__format__',\n",
       " '__ge__',\n",
       " '__getattribute__',\n",
       " '__getnewargs__',\n",
       " '__gt__',\n",
       " '__hash__',\n",
       " '__help__',\n",
       " '__index__',\n",
       " '__init__',\n",
       " '__init_subclass__',\n",
       " '__int__',\n",
       " '__invert__',\n",
       " '__le__',\n",
       " '__lshift__',\n",
       " '__lt__',\n",
       " '__mod__',\n",
       " '__mul__',\n",
       " '__ne__',\n",
       " '__neg__',\n",
       " '__new__',\n",
       " '__or__',\n",
       " '__pos__',\n",
       " '__pow__',\n",
       " '__radd__',\n",
       " '__rand__',\n",
       " '__rdivmod__',\n",
       " '__reduce__',\n",
       " '__reduce_ex__',\n",
       " '__repr__',\n",
       " '__rfloordiv__',\n",
       " '__rlshift__',\n",
       " '__rmod__',\n",
       " '__rmul__',\n",
       " '__ror__',\n",
       " '__round__',\n",
       " '__rpow__',\n",
       " '__rrshift__',\n",
       " '__rshift__',\n",
       " '__rsub__',\n",
       " '__rtruediv__',\n",
       " '__rxor__',\n",
       " '__setattr__',\n",
       " '__sizeof__',\n",
       " '__str__',\n",
       " '__sub__',\n",
       " '__subclasshook__',\n",
       " '__truediv__',\n",
       " '__trunc__',\n",
       " '__xor__',\n",
       " 'as_integer_ratio',\n",
       " 'bit_count',\n",
       " 'bit_length',\n",
       " 'conjugate',\n",
       " 'denominator',\n",
       " 'from_bytes',\n",
       " 'imag',\n",
       " 'numerator',\n",
       " 'real',\n",
       " 'to_bytes']"
      ]
     },
     "execution_count": 40,
     "metadata": {},
     "output_type": "execute_result"
    }
   ],
   "source": [
    "dir(int)\n",
    "# [*filter(lambda x: x.startswith('__'), dir(int))]"
   ]
  },
  {
   "cell_type": "markdown",
   "metadata": {},
   "source": [
    "## Простой декоратор\n",
    "Теперь мы знаем, что функция - это тоже объект"
   ]
  },
  {
   "cell_type": "code",
   "execution_count": 5,
   "metadata": {},
   "outputs": [
    {
     "name": "stdout",
     "output_type": "stream",
     "text": [
      "Это произойдет до вызова func\n",
      "Hello world!\n",
      "Это произойдет после вызова func\n"
     ]
    }
   ],
   "source": [
    "def decorator(func):\n",
    "    def wrapper():\n",
    "        print(\"Это произойдет до вызова func\")\n",
    "        func()\n",
    "        print(\"Это произойдет после вызова func\")\n",
    "    return wrapper\n",
    "\n",
    "def hello_word():\n",
    "    print(\"Hello world!\")\n",
    "\n",
    "f = decorator(hello_word)\n",
    "\n",
    "f()"
   ]
  },
  {
   "cell_type": "code",
   "execution_count": 11,
   "metadata": {},
   "outputs": [
    {
     "name": "stdout",
     "output_type": "stream",
     "text": [
      "Это произойдет до вызова say_hello\n",
      "hello\n",
      "Это произойдет после вызова say_hello\n"
     ]
    }
   ],
   "source": [
    "# А теперь чутка синтаксического сахара\n",
    "\n",
    "def decorator(func):\n",
    "    def wrapper():\n",
    "        print(f\"Это произойдет до вызова {func.__name__}\")\n",
    "        func()\n",
    "        print(f\"Это произойдет после вызова {func.__name__}\")\n",
    "    return wrapper\n",
    "\n",
    "@decorator\n",
    "def say_hello():\n",
    "    print(\"hello\")\n",
    "\n",
    "say_hello()"
   ]
  },
  {
   "cell_type": "markdown",
   "metadata": {},
   "source": [
    "# Классы\n",
    "\n",
    "класс состоит из следующих членов:\n",
    "\n",
    "1. Методы - функции класса/экземпляра\n",
    "2. Переменные класса\n",
    "\n",
    "Доступ к методам экземпляра:\n",
    "- для экземпляров через оператор доступа к атрибуту \".\" \n",
    "Пример:\n",
    "```python\n",
    "a = [1, 2]\n",
    "a.sort() # мы обращаемся к методу sort у класса list\n",
    "```\n",
    "Создание класса:\n",
    "```python\n",
    "class <название класса>: \n",
    "        <поля и методы класса>\n",
    "```\n",
    "\n"
   ]
  },
  {
   "cell_type": "code",
   "execution_count": null,
   "metadata": {},
   "outputs": [],
   "source": [
    "class A: \n",
    "    pass"
   ]
  },
  {
   "cell_type": "code",
   "execution_count": null,
   "metadata": {},
   "outputs": [],
   "source": [
    "# создание экземпляра класса\n",
    "a = A()"
   ]
  },
  {
   "cell_type": "markdown",
   "metadata": {},
   "source": [
    "## Встроенные функции type() и isinstance()\n",
    "```python\n",
    "type(x) # возвращает тип объекта x\n",
    "```\n",
    "\n",
    "Пример:\n"
   ]
  },
  {
   "cell_type": "code",
   "execution_count": 6,
   "metadata": {},
   "outputs": [
    {
     "data": {
      "text/plain": [
       "(float, int)"
      ]
     },
     "execution_count": 6,
     "metadata": {},
     "output_type": "execute_result"
    }
   ],
   "source": [
    "type(1.0), type(1)"
   ]
  },
  {
   "cell_type": "markdown",
   "metadata": {},
   "source": [
    "```python\n",
    "isinstance(x, y)\n",
    "```\n",
    "`isinstance(x, y)` возвращает `True`, если oбъект `x` является экземпляром `y`, иначе `False`.\n",
    "`y` может быть `tuple`, содержащим классы. В таком случае `True` возвращается, если `x` является экземпляром одного из классов в `y`.\n",
    "\n",
    "Примеры:\n"
   ]
  },
  {
   "cell_type": "code",
   "execution_count": 7,
   "metadata": {},
   "outputs": [
    {
     "data": {
      "text/plain": [
       "True"
      ]
     },
     "execution_count": 7,
     "metadata": {},
     "output_type": "execute_result"
    }
   ],
   "source": [
    "isinstance('a', str)"
   ]
  },
  {
   "cell_type": "code",
   "execution_count": 8,
   "metadata": {},
   "outputs": [
    {
     "data": {
      "text/plain": [
       "False"
      ]
     },
     "execution_count": 8,
     "metadata": {},
     "output_type": "execute_result"
    }
   ],
   "source": [
    "x = isinstance(\"Hello\", (float, int, dict, tuple))\n",
    "x"
   ]
  },
  {
   "cell_type": "markdown",
   "metadata": {},
   "source": [
    "## Инициализация экземпляров\n",
    "\n",
    "Для инициализации экземпляра класса используется специальный метод - инициализатор с именем `__init__`.  \n",
    "Для обращению к полю экземпляра в методы класса первым параметром объявляется переменная, обращением к которой мы будем обращаться к экземпляру класса.  \n",
    "Первым параметром всех методов передается сам экземпляр, метод которого был вызван. Это позволит использовать методы экземпляра и менять его атрибуты. Эту переменную принято называть `self`. \n"
   ]
  },
  {
   "cell_type": "code",
   "execution_count": 10,
   "metadata": {},
   "outputs": [],
   "source": [
    "class Student:\n",
    "    def __init__(self, name, age):\n",
    "        self.name = name\n",
    "        self.age = age\n",
    "        self.group = 'itam'\n",
    "    "
   ]
  },
  {
   "cell_type": "code",
   "execution_count": 12,
   "metadata": {},
   "outputs": [
    {
     "data": {
      "text/plain": [
       "('Danila', 'Denis')"
      ]
     },
     "execution_count": 12,
     "metadata": {},
     "output_type": "execute_result"
    }
   ],
   "source": [
    "# Создание экземпляра класса\n",
    "danila = Student('Danila', 20)\n",
    "denis = Student(name='Denis', age=18)\n",
    "danila.name, denis.name"
   ]
  },
  {
   "cell_type": "markdown",
   "metadata": {},
   "source": [
    "## Переменные класса и различные методы\n",
    "Переменные класса - переменные, доступные для всех экземпляров класса. Методы являются переменными класса.  \n",
    "\n",
    "Обычные методы при доступе через экземпляр получают первым аргументом экземпляр, метод которого был вызван. При доступе через класс метод возвращается в неизменном виде.\n",
    "\n",
    "Статические методы - методы, возвращающиеся в неизменном виде при доступе к методу. Соответственно, из этого метода нельзя понять ни через какой экземпляр был вызван метод, ни через какой класс.\n",
    "\n",
    "Методы класса - методы, получающие первым аргументом класс, через который этот метод был получен. Если метод получается через экземпляр, то в метод класса первым аргументом передается тип экземпляра.\n"
   ]
  },
  {
   "cell_type": "code",
   "execution_count": 14,
   "metadata": {},
   "outputs": [],
   "source": [
    "class Student:\n",
    "    # Иницацилизация переменной класса\n",
    "    _students_count = 0\n",
    "    \n",
    "    def __init__(self, name, age = 18) -> None:\n",
    "        self.name = name\n",
    "        self.age = age\n",
    "\n",
    "        self.group = 'itam'\n",
    "\n",
    "        Student._students_count += 1 \n",
    "\n",
    "    # создание статического метода\n",
    "    @staticmethod \n",
    "    def get_amount():\n",
    "        return Student._students_count\n",
    "    \n",
    "    # лучше сделать так:\n",
    "    #@classmethod \n",
    "    #def get_amount(cls):\n",
    "    #    return cls._students_count\n",
    "    "
   ]
  },
  {
   "cell_type": "code",
   "execution_count": 15,
   "metadata": {},
   "outputs": [],
   "source": [
    "a, b, c = Student(\"Danila\"), Student(\"Denis\"), Student(\"Michael\")"
   ]
  },
  {
   "cell_type": "code",
   "execution_count": 16,
   "metadata": {},
   "outputs": [
    {
     "data": {
      "text/plain": [
       "3"
      ]
     },
     "execution_count": 16,
     "metadata": {},
     "output_type": "execute_result"
    }
   ],
   "source": [
    "Student._students_count"
   ]
  },
  {
   "cell_type": "code",
   "execution_count": 21,
   "metadata": {},
   "outputs": [
    {
     "name": "stdout",
     "output_type": "stream",
     "text": [
      "<bound method X.method of <__main__.X object at 0x000002F4A111B850>>\n",
      "<function X.method at 0x000002F4A30BE830>\n",
      "\n",
      "<function X.smethod at 0x000002F4A30BDCF0>\n",
      "<function X.smethod at 0x000002F4A30BDCF0>\n",
      "\n",
      "<bound method X.cmethod of <class '__main__.X'>>\n",
      "<bound method X.cmethod of <class '__main__.X'>>\n",
      "\n",
      "<x>, 1, 2\n",
      "1, 2\n",
      "<class '__main__.X'>, 1, 2\n"
     ]
    }
   ],
   "source": [
    "class X:\n",
    "    def method(self, a, b):\n",
    "        print(f'{self}, {a}, {b}')\n",
    "    \n",
    "    @staticmethod\n",
    "    def smethod(a, b):\n",
    "        print(f'{a}, {b}')\n",
    "    \n",
    "    @classmethod\n",
    "    def cmethod(cls, a, b):\n",
    "        print(f'{cls}, {a}, {b}')\n",
    "    \n",
    "    def __str__(self): return '<x>'\n",
    "\n",
    "x = X()\n",
    "\n",
    "print(x.method) # метод с неявным первым параметром x\n",
    "print(X.method) # метод в неизменном виде\n",
    "print()\n",
    "print(x.smethod) # метод в неизменном виде\n",
    "print(X.smethod) # метод в неизменном виде\n",
    "print()\n",
    "print(x.cmethod) # метод с неявным первым параметром X\n",
    "print(X.cmethod) # метод с неявным первым параметром X\n",
    "print()\n",
    "\n",
    "x.method(1, 2) # <x>, 1, 2\n",
    "x.smethod(1, 2) # 1, 2\n",
    "x.cmethod(1, 2) # <class '__main__.X'>, 1, 2\n"
   ]
  },
  {
   "cell_type": "markdown",
   "metadata": {},
   "source": [
    "# Magic or Dunder Methods \n",
    "Dunder означает **d**ouble **under**score (двойное подчеркивание).\n",
    "Это специальные методы, которые начинаются и заканчиваются с \\_\\_.  \n",
    "Dunder методы обычно не предназначены для явного вызова, интерпретатор сам вызывает их в некоторых ситуациях.   Например, при сложении двух чисел с помощью оператора `+` будет вызван метод `__add__()`  \n",
    "\n",
    "Для просмотра __магических методов__ существует функция `dir()`"
   ]
  },
  {
   "cell_type": "code",
   "execution_count": 23,
   "metadata": {},
   "outputs": [
    {
     "name": "stdout",
     "output_type": "stream",
     "text": [
      "2\n",
      "2\n"
     ]
    }
   ],
   "source": [
    "a = 1\n",
    "print(a + 1)\n",
    "print(a.__add__(1))"
   ]
  },
  {
   "cell_type": "markdown",
   "metadata": {},
   "source": [
    "Список некоторых \\_\\_dunder\\_\\_ методов, которые обрабатываются интерпретатором особым образом: \n",
    "\n",
    "**attribute lookup:**    \n",
    "\\_\\_getattribute\\_\\_    \n",
    "\\_\\_getattr\\_\\_    \n",
    "\\_\\_setattr\\_\\_    \n",
    "\\_\\_delattr\\_\\_    \n",
    "\n",
    "**item lookup:**    \n",
    "\\_\\_getitem\\_\\_  \n",
    "\\_\\_setitem\\_\\_  \n",
    "\\_\\_delitem\\_\\_  \n",
    "\n",
    "**equality checking:**  \n",
    "\\_\\_eq\\_\\_  \n",
    "\\_\\_ne\\_\\_  \n",
    "\n",
    "**rich comparisons:**  \n",
    "\\_\\_ge\\_\\_  \n",
    "\\_\\_gt\\_\\_  \n",
    "\\_\\_le\\_\\_  \n",
    "\\_\\_lt\\_\\_  \n",
    "\n",
    "**hashing:**  \n",
    "\\_\\_hash\\_\\_  \n",
    "\n",
    "**binary operators:**  \n",
    "\\_\\_add\\_\\_  \n",
    "\\_\\_sub\\_\\_  \n",
    "\\_\\_mul\\_\\_  \n",
    "\\_\\_truediv\\_\\_  \n",
    "\\_\\_floordiv\\_\\_  \n",
    "\\_\\_mod\\_\\_  \n",
    "\\_\\_matmul\\_\\_  \n",
    "\\_\\_pow\\_\\_ (not actually a binary operator)  \n",
    "\\_\\_and\\_\\_  \n",
    "\\_\\_or\\_\\_  \n",
    "\\_\\_xor\\_\\_  \n",
    "\\_\\_divmod\\_\\_  \n",
    "\\_\\_lshift\\_\\_  \n",
    "\\_\\_rshift\\_\\_  \n",
    "\n",
    "**reversed binary operators:**  \n",
    "\\_\\_radd\\_\\_  \n",
    "\\_\\_rsub\\_\\_  \n",
    "\\_\\_rmul\\_\\_  \n",
    "\\_\\_rtruediv\\_\\_  \n",
    "\\_\\_rfloordiv\\_\\_  \n",
    "\\_\\_rmod\\_\\_  \n",
    "\\_\\_rmatmul\\_\\_  \n",
    "\\_\\_rpow\\_\\_ (not actually a binary operator)  \n",
    "\\_\\_rand\\_\\_  \n",
    "\\_\\_ror\\_\\_  \n",
    "\\_\\_rxor\\_\\_  \n",
    "\\_\\_rdivmod\\_\\_  \n",
    "\\_\\_rlshift\\_\\_  \n",
    "\\_\\_rrshift\\_\\_  \n",
    "\n",
    "**in-place binary operators:**  \n",
    "\\_\\_iadd\\_\\_  \n",
    "\\_\\_isub\\_\\_  \n",
    "\\_\\_imul\\_\\_  \n",
    "\\_\\_itruediv\\_\\_  \n",
    "\\_\\_ifloordiv\\_\\_  \n",
    "\\_\\_imod\\_\\_  \n",
    "\\_\\_imatmul\\_\\_  \n",
    "\\_\\_ipow\\_\\_ (not actually a binary operator)  \n",
    "\\_\\_iand\\_\\_  \n",
    "\\_\\_ior\\_\\_  \n",
    "\\_\\_ixor\\_\\_  \n",
    "\\_\\_ilshift\\_\\_  \n",
    "\\_\\_irshift\\_\\_  \n",
    "\n",
    "**unary operators:**  \n",
    "\\_\\_neg\\_\\_  \n",
    "\\_\\_pos\\_\\_  \n",
    "\\_\\_invert\\_\\_  \n",
    "\n",
    "**math conversions:**  \n",
    "\\_\\_index\\_\\_  \n",
    "\\_\\_trunc\\_\\_  \n",
    "\\_\\_floor\\_\\_  \n",
    "\\_\\_ceil\\_\\_  \n",
    "\\_\\_round\\_\\_  \n",
    "\\_\\_abs\\_\\_  \n",
    "\\_\\_len\\_\\_  \n",
    "\n",
    "**iterator protocol:**  \n",
    "\\_\\_iter\\_\\_  \n",
    "\\_\\_reversed\\_\\_  \n",
    "\\_\\_next\\_\\_  \n",
    "\\_\\_length_hint\\_\\_  \n",
    "\n",
    "\n",
    "\n",
    "**type casting:**  \n",
    "\\_\\_str\\_\\_  \n",
    "\\_\\_repr\\_\\_  \n",
    "\\_\\_int\\_\\_  \n",
    "\\_\\_bool\\_\\_  \n",
    "\\_\\_complex\\_\\_  \n",
    "\\_\\_float\\_\\_  \n",
    "\\_\\_bytes\\_\\_  \n",
    "\\_\\_format\\_\\_  \n",
    "\n",
    "**context manager:**  \n",
    "\\_\\_enter\\_\\_  \n",
    "\\_\\_exit\\_\\_  \n",
    "\\_\\_aenter\\_\\_  \n",
    "\\_\\_aexit\\_\\_  \n",
    "\n",
    "**descriptor protocol:**  \n",
    "\\_\\_get\\_\\_  \n",
    "\\_\\_set\\_\\_  \n",
    "\\_\\_delete\\_\\_  \n",
    "\\_\\_set_name\\_\\_  \n",
    "\n",
    "**object life-time:**  \n",
    "\\_\\_new\\_\\_  \n",
    "\\_\\_init\\_\\_  \n",
    "\\_\\_del\\_\\_  \n",
    "\n",
    "**class related methods:**  \n",
    "\\_\\_init_subclass\\_\\_  \n",
    "\\_\\_prepare\\_\\_  \n",
    "\\_\\_class_getitem\\_\\_  \n",
    "\n",
    "\\_\\_call\\_\\_  \n",
    "\\_\\_dir\\_\\_  \n",
    "\n",
    "**instance / subclass check:**  \n",
    "\\_\\_instancecheck\\_\\_  \n",
    "\\_\\_subclasscheck\\_\\_  \n",
    "\n",
    "**container protocol:**  \n",
    "\\_\\_contains\\_\\_  \n",
    "\n",
    "**others:**  \n",
    "\\_\\_fspath\\_\\_  \n",
    "\\_\\_sizeof\\_\\_  \n",
    "\\_\\_missing\\_\\_  \n",
    "\\_\\_await\\_\\_  \n",
    "\\_\\_aiter\\_\\_  \n",
    "\\_\\_anext\\_\\_  \n",
    "\\_\\_getnewargs\\_\\_  \n",
    "\\_\\_getnewargs_ex\\_\\_  \n",
    "\\_\\_getstate\\_\\_  \n",
    "\\_\\_setstate\\_\\_  \n",
    "\\_\\_reduce\\_\\_  \n",
    "\\_\\_reduce_ex\\_\\_  \n",
    "\\_\\_post_init\\_\\_  \n",
    "\\_\\_copy\\_\\_  \n",
    "\\_\\_deepcopy\\_\\_  \n",
    "\\_\\_concat\\_\\_  \n",
    "\\_\\_iconcat\\_\\_  \n",
    "\\_\\_getformat\\_\\_  \n",
    "\\_\\_setformat\\_\\_  \n",
    "\\_\\_getinitargs\\_\\_  \n",
    "\n",
    "Существует еще множество \\_\\_dunder\\_\\_ методов, используемых в стандартной библиотеке и в других библиотеках.\n",
    "Также существуют \\_\\_dunder\\_\\_ атрибуты, которые обрабатываются особым образом.\n",
    "Использовать придуманные имена в формате \\_\\_\\*\\_\\_ не рекомендуется."
   ]
  },
  {
   "cell_type": "code",
   "execution_count": 21,
   "metadata": {},
   "outputs": [
    {
     "data": {
      "text/plain": [
       "15"
      ]
     },
     "execution_count": 21,
     "metadata": {},
     "output_type": "execute_result"
    }
   ],
   "source": [
    "num = 10\n",
    "num + 5"
   ]
  },
  {
   "cell_type": "code",
   "execution_count": null,
   "metadata": {},
   "outputs": [],
   "source": [
    "num.__add__(5) "
   ]
  },
  {
   "cell_type": "code",
   "execution_count": 24,
   "metadata": {},
   "outputs": [],
   "source": [
    "class Student:\n",
    "    _students_count = 0\n",
    "    \n",
    "    def __init__(self, name, age=18):\n",
    "        self.name = name\n",
    "        self.age = age\n",
    "\n",
    "        self.group = 'itam'\n",
    "\n",
    "        Student._students_count += 1 \n",
    "\n",
    "    # __str__ - вызывается для получения строкового представления объекта. В частности, вызывается при вызове str(x)\n",
    "    def __str__(self):\n",
    "        return self.name + \", \" + str(self.age)\n",
    "    \n",
    "    @classmethod \n",
    "    def get_amount(cls):\n",
    "        return cls._students_count"
   ]
  },
  {
   "cell_type": "code",
   "execution_count": 25,
   "metadata": {},
   "outputs": [
    {
     "name": "stdout",
     "output_type": "stream",
     "text": [
      "Danila, 22\n"
     ]
    }
   ],
   "source": [
    "a = Student(\"Danila\", 22)\n",
    "print(a)"
   ]
  },
  {
   "cell_type": "markdown",
   "metadata": {},
   "source": [
    "# Инкапсуляция\n",
    "Механизм сокрытия, позволяющий разграничивать доступ к различным компонентам программы.\n",
    "\n",
    "В Python невозможно по-настоящему скрыть какие-либо данные, но т.к. \"we are all consenting adults here\" это не создает никаких проблем.\n",
    "Имена, начинающиеся с подчеркивания, считаются приватными и не подразумевают, что их будут использовать из другого места.\n",
    "Имена, начинающиеся с двойного подчеркивания, нужны для разрешения противоречий в сложных графах наследования. Они нисколько не \"более приватные\", чем имена, начинающиеся с одного подчеркивания\n"
   ]
  },
  {
   "cell_type": "code",
   "execution_count": 26,
   "metadata": {},
   "outputs": [],
   "source": [
    "class Student:\n",
    "    _students_count = 0\n",
    "    \n",
    "    def __init__(self, name, age = 18) -> None:\n",
    "        self.name = name\n",
    "        self.age = age\n",
    "\n",
    "        self.group = 'itam'\n",
    "\n",
    "        Student._students_count += 1 \n",
    "\n",
    "    def __str__(self):\n",
    "        return self.name + \", \" + str(self.age)\n",
    "    \n",
    "    @classmethod \n",
    "    def get_amount(cls):\n",
    "        return cls._students_count\n",
    "\n",
    "    def method_a(self):\n",
    "        self.d = 'a'\n",
    "        self.__method_c()\n",
    "        return 'a'\n",
    "\n",
    "    def _method_b(self):\n",
    "        return 'b'\n",
    "\n",
    "    def __method_c(self):\n",
    "        print(\"Hello\")"
   ]
  },
  {
   "cell_type": "code",
   "execution_count": 28,
   "metadata": {},
   "outputs": [
    {
     "name": "stdout",
     "output_type": "stream",
     "text": [
      "Hello\n"
     ]
    },
    {
     "data": {
      "text/plain": [
       "'a'"
      ]
     },
     "execution_count": 28,
     "metadata": {},
     "output_type": "execute_result"
    }
   ],
   "source": [
    "a = Student(\"Danila\", 21)\n",
    "a.method_a()\n",
    "a.d"
   ]
  },
  {
   "cell_type": "code",
   "execution_count": 29,
   "metadata": {},
   "outputs": [
    {
     "data": {
      "text/plain": [
       "'b'"
      ]
     },
     "execution_count": 29,
     "metadata": {},
     "output_type": "execute_result"
    }
   ],
   "source": [
    "# выполнится без проблем, но большинство IDE показывает предупреждение\n",
    "a._method_b()"
   ]
  },
  {
   "cell_type": "code",
   "execution_count": 31,
   "metadata": {},
   "outputs": [
    {
     "ename": "AttributeError",
     "evalue": "'Student' object has no attribute '__method_c'",
     "output_type": "error",
     "traceback": [
      "\u001b[1;31m---------------------------------------------------------------------------\u001b[0m",
      "\u001b[1;31mAttributeError\u001b[0m                            Traceback (most recent call last)",
      "Input \u001b[1;32mIn [31]\u001b[0m, in \u001b[0;36m<cell line: 2>\u001b[1;34m()\u001b[0m\n\u001b[0;32m      1\u001b[0m \u001b[38;5;66;03m# Не сработает\u001b[39;00m\n\u001b[1;32m----> 2\u001b[0m \u001b[43ma\u001b[49m\u001b[38;5;241;43m.\u001b[39;49m\u001b[43m__method_c\u001b[49m()\n",
      "\u001b[1;31mAttributeError\u001b[0m: 'Student' object has no attribute '__method_c'"
     ]
    }
   ],
   "source": [
    "# возникнет ошибка\n",
    "a.__method_c()"
   ]
  },
  {
   "cell_type": "code",
   "execution_count": 32,
   "metadata": {},
   "outputs": [
    {
     "name": "stdout",
     "output_type": "stream",
     "text": [
      "Hello\n"
     ]
    }
   ],
   "source": [
    "# всё равно можно вызвать через <object>._<class_name><method_name>()\n",
    "a._Student__method_c()"
   ]
  },
  {
   "cell_type": "markdown",
   "metadata": {},
   "source": [
    "# Наследование\n",
    "Концепция объектно-ориентированного программирования, согласно которой абстрактный тип данных может наследовать данные и функциональность некоторого существующего типа, способствуя повторному использованию компонентов программного обеспечения.\n",
    "\n",
    "```python\n",
    "class <дочерний класс>(<родительский класс>)\n",
    "```"
   ]
  },
  {
   "cell_type": "code",
   "execution_count": 34,
   "metadata": {},
   "outputs": [
    {
     "name": "stdout",
     "output_type": "stream",
     "text": [
      "Привет, мир!\n"
     ]
    }
   ],
   "source": [
    "class A:\n",
    "    def __init__(self):\n",
    "        print('Привет, мир!')\n",
    "        \n",
    "class B(A):\n",
    "    pass\n",
    "\n",
    "b = B()\n"
   ]
  },
  {
   "cell_type": "code",
   "execution_count": 35,
   "metadata": {},
   "outputs": [],
   "source": [
    "class C(A):\n",
    "    \n",
    "    # методы можно переопределять\n",
    "    def __init__(self):\n",
    "        print(\"Привет, жестокий мир\")"
   ]
  },
  {
   "cell_type": "code",
   "execution_count": 36,
   "metadata": {},
   "outputs": [
    {
     "name": "stdout",
     "output_type": "stream",
     "text": [
      "Привет, жестокий мир\n"
     ]
    }
   ],
   "source": [
    "c = C()"
   ]
  },
  {
   "cell_type": "markdown",
   "metadata": {},
   "source": [
    "# Полиморфизм  \n",
    "\n",
    "Свойство системы, позволяющее использовать объекты с одинаковым интерфейсом без информации о типе и внутренней структуре объекта."
   ]
  },
  {
   "cell_type": "code",
   "execution_count": 38,
   "metadata": {},
   "outputs": [
    {
     "name": "stdout",
     "output_type": "stream",
     "text": [
      "BARK\n",
      "MEOW\n"
     ]
    }
   ],
   "source": [
    "class Animal:\n",
    "    def __init__(self):\n",
    "        pass\n",
    "    \n",
    "    def bark(self):\n",
    "        pass\n",
    "    \n",
    "class Cat(Animal):\n",
    "    def bark(self):\n",
    "        return \"MEOW\"\n",
    "    \n",
    "\n",
    "class Dog(Animal):\n",
    "    def bark(self):\n",
    "        return \"BARK\"\n",
    "    \n",
    "\n",
    "def do_voice(animal):\n",
    "    print(animal.bark())\n",
    "    \n",
    "kraft = Dog()\n",
    "do_voice(kraft)\n",
    "\n",
    "mikki = Cat()\n",
    "do_voice(mikki)"
   ]
  },
  {
   "cell_type": "code",
   "execution_count": null,
   "metadata": {},
   "outputs": [],
   "source": []
  }
 ],
 "metadata": {
  "kernelspec": {
   "display_name": "Python 3 (ipykernel)",
   "language": "python",
   "name": "python3"
  },
  "language_info": {
   "codemirror_mode": {
    "name": "ipython",
    "version": 3
   },
   "file_extension": ".py",
   "mimetype": "text/x-python",
   "name": "python",
   "nbconvert_exporter": "python",
   "pygments_lexer": "ipython3",
   "version": "3.10.6"
  },
  "vscode": {
   "interpreter": {
    "hash": "7e1998ff7f8aa20ada591c520b972326324e5ea05489af9e422744c7c09f6dad"
   }
  }
 },
 "nbformat": 4,
 "nbformat_minor": 2
}
